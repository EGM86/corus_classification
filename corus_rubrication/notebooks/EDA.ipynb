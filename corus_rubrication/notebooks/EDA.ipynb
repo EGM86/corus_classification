{
 "cells": [
  {
   "cell_type": "code",
   "execution_count": 1,
   "source": [
    "import pandas as pd\n",
    "import os\n",
    "import sys\n",
    "import matplotlib.pyplot as plt\n",
    "\n",
    "from sklearn.ensemble import RandomForestClassifier\n",
    "from sklearn.preprocessing import LabelEncoder\n",
    "from sklearn.feature_extraction.text import TfidfVectorizer\n",
    "from sklearn import model_selection, svm\n",
    "from sklearn.metrics import accuracy_score, classification_report\n"
   ],
   "outputs": [],
   "metadata": {}
  },
  {
   "cell_type": "code",
   "execution_count": 10,
   "source": [
    "year = 2137\n",
    "\n",
    "first = year // 1000\n",
    "second = (year // 100) % 10\n",
    "third = (year // 10) % 10\n",
    "fourth = year % 10\n",
    "\n",
    "fourth\n"
   ],
   "outputs": [
    {
     "output_type": "execute_result",
     "data": {
      "text/plain": [
       "7"
      ]
     },
     "metadata": {},
     "execution_count": 10
    }
   ],
   "metadata": {}
  },
  {
   "cell_type": "code",
   "execution_count": 27,
   "source": [
    "num = max(1, 3, -5, 7) + min(-3, 6, -8, -1) + abs(-17)\n",
    "print(num)"
   ],
   "outputs": [
    {
     "output_type": "stream",
     "name": "stdout",
     "text": [
      "16\n"
     ]
    }
   ],
   "metadata": {}
  },
  {
   "cell_type": "code",
   "execution_count": 18,
   "source": [
    "x = 2\n",
    "\n",
    "if (x % 2 != 0) or (6 <= x <= 20 and x % 2 == 0):\n",
    "    print('YES')\n",
    "elif (x % 2 == 0 and x > 20) or (2 <= x <= 5 and x % 2 == 0):\n",
    "    print('NO')"
   ],
   "outputs": [
    {
     "output_type": "stream",
     "name": "stdout",
     "text": [
      "NO\n"
     ]
    }
   ],
   "metadata": {}
  },
  {
   "cell_type": "code",
   "execution_count": 9,
   "source": [
    "a = int(input())\n",
    "if a >= 2 and a <= 17:\n",
    "    b = 3\n",
    "    p = a * a + b * b\n",
    "else:\n",
    "    b = 5\n",
    "p = (a + b) * (a + b)\n",
    "print(p)"
   ],
   "outputs": [
    {
     "output_type": "stream",
     "name": "stdout",
     "text": [
      "100\n"
     ]
    }
   ],
   "metadata": {}
  },
  {
   "cell_type": "code",
   "execution_count": 2,
   "source": [
    "module_path = os.path.abspath(os.path.join('..'))\n",
    "print(module_path)\n",
    "if module_path not in sys.path:\n",
    "    sys.path.append(module_path)"
   ],
   "outputs": [
    {
     "output_type": "stream",
     "name": "stdout",
     "text": [
      "/home/egm/egm_projects/seldon/example_dvc_project/corus_rubrication/corus_rubrication\n"
     ]
    }
   ],
   "metadata": {}
  },
  {
   "cell_type": "code",
   "execution_count": 3,
   "source": [
    "DATA_PATH = os.path.join('..','data','proceed')\n",
    "DATA_PATH"
   ],
   "outputs": [
    {
     "output_type": "execute_result",
     "data": {
      "text/plain": [
       "'../data/proceed'"
      ]
     },
     "metadata": {},
     "execution_count": 3
    }
   ],
   "metadata": {}
  },
  {
   "cell_type": "code",
   "execution_count": 4,
   "source": [
    "df = pd.read_csv(f'{DATA_PATH}/data_clean.csv')\n",
    "df"
   ],
   "outputs": [
    {
     "output_type": "execute_result",
     "data": {
      "text/html": [
       "<div>\n",
       "<style scoped>\n",
       "    .dataframe tbody tr th:only-of-type {\n",
       "        vertical-align: middle;\n",
       "    }\n",
       "\n",
       "    .dataframe tbody tr th {\n",
       "        vertical-align: top;\n",
       "    }\n",
       "\n",
       "    .dataframe thead th {\n",
       "        text-align: right;\n",
       "    }\n",
       "</style>\n",
       "<table border=\"1\" class=\"dataframe\">\n",
       "  <thead>\n",
       "    <tr style=\"text-align: right;\">\n",
       "      <th></th>\n",
       "      <th>url</th>\n",
       "      <th>topics</th>\n",
       "      <th>title</th>\n",
       "      <th>text</th>\n",
       "      <th>len</th>\n",
       "    </tr>\n",
       "  </thead>\n",
       "  <tbody>\n",
       "    <tr>\n",
       "      <th>0</th>\n",
       "      <td>https://russian.rt.com/world/news/644618-parla...</td>\n",
       "      <td>Мир</td>\n",
       "      <td>парламентарий сша фрг россия провести встреча ...</td>\n",
       "      <td>информировать риа новость ссылка план зарубежн...</td>\n",
       "      <td>39.0</td>\n",
       "    </tr>\n",
       "    <tr>\n",
       "      <th>1</th>\n",
       "      <td>https://russian.rt.com/sport/news/644617-mok-a...</td>\n",
       "      <td>Спорт</td>\n",
       "      <td>мокнуть принять решение лишить признание aiba</td>\n",
       "      <td>решение сессия мокнуть швейцарский лозанна aib...</td>\n",
       "      <td>37.0</td>\n",
       "    </tr>\n",
       "    <tr>\n",
       "      <th>2</th>\n",
       "      <td>https://russian.rt.com/sport/news/644611-giner...</td>\n",
       "      <td>Спорт</td>\n",
       "      <td>гинер допустить приглашение иностранный клуб рпл</td>\n",
       "      <td>субъективный мнение рпл обязательный расширять...</td>\n",
       "      <td>46.0</td>\n",
       "    </tr>\n",
       "    <tr>\n",
       "      <th>3</th>\n",
       "      <td>https://russian.rt.com/world/news/644610-rossi...</td>\n",
       "      <td>Мир</td>\n",
       "      <td>россия поставить турция июль</td>\n",
       "      <td>июль осуществлять рамка план поставка приводит...</td>\n",
       "      <td>46.0</td>\n",
       "    </tr>\n",
       "    <tr>\n",
       "      <th>4</th>\n",
       "      <td>https://russian.rt.com/sport/news/644606-semak...</td>\n",
       "      <td>Спорт</td>\n",
       "      <td>семак заявить видеть позитив изменение формат ...</td>\n",
       "      <td>позиция оставаться неизменный лимит таковой ра...</td>\n",
       "      <td>54.0</td>\n",
       "    </tr>\n",
       "    <tr>\n",
       "      <th>...</th>\n",
       "      <td>...</td>\n",
       "      <td>...</td>\n",
       "      <td>...</td>\n",
       "      <td>...</td>\n",
       "      <td>...</td>\n",
       "    </tr>\n",
       "    <tr>\n",
       "      <th>53319</th>\n",
       "      <td>https://russian.rt.com/sport/news/445239-pilot...</td>\n",
       "      <td>Спорт</td>\n",
       "      <td>пилот формула хэмилтон стать самый высокооплач...</td>\n",
       "      <td>сообщать nsky sportsn случай успешный завершен...</td>\n",
       "      <td>53.0</td>\n",
       "    </tr>\n",
       "    <tr>\n",
       "      <th>53320</th>\n",
       "      <td>https://russian.rt.com/world/news/445224-terro...</td>\n",
       "      <td>Мир</td>\n",
       "      <td>губернатор исполнитель теракт нью йорк связать...</td>\n",
       "      <td>связать иго радикализоваться внутри страна рас...</td>\n",
       "      <td>47.0</td>\n",
       "    </tr>\n",
       "    <tr>\n",
       "      <th>53321</th>\n",
       "      <td>https://russian.rt.com/world/news/445219-zahar...</td>\n",
       "      <td>Мир</td>\n",
       "      <td>захаров считать twitter давление заблокировать...</td>\n",
       "      <td>ход расширить заседание совфедя посвященного в...</td>\n",
       "      <td>65.0</td>\n",
       "    </tr>\n",
       "    <tr>\n",
       "      <th>53322</th>\n",
       "      <td>https://russian.rt.com/sport/news/445236-syomi...</td>\n",
       "      <td>Спорт</td>\n",
       "      <td>главный тренер футбольный локомотив отказаться...</td>\n",
       "      <td>никто сравнивать ничто рекомендовать тренер сб...</td>\n",
       "      <td>42.0</td>\n",
       "    </tr>\n",
       "    <tr>\n",
       "      <th>53323</th>\n",
       "      <td>https://russian.rt.com/world/news/445220-tramp...</td>\n",
       "      <td>Мир</td>\n",
       "      <td>трамп раскритиковать лотерея green card теракт...</td>\n",
       "      <td>террорист прибыть страна называть диверсификац...</td>\n",
       "      <td>76.0</td>\n",
       "    </tr>\n",
       "  </tbody>\n",
       "</table>\n",
       "<p>53324 rows × 5 columns</p>\n",
       "</div>"
      ],
      "text/plain": [
       "                                                     url topics  \\\n",
       "0      https://russian.rt.com/world/news/644618-parla...    Мир   \n",
       "1      https://russian.rt.com/sport/news/644617-mok-a...  Спорт   \n",
       "2      https://russian.rt.com/sport/news/644611-giner...  Спорт   \n",
       "3      https://russian.rt.com/world/news/644610-rossi...    Мир   \n",
       "4      https://russian.rt.com/sport/news/644606-semak...  Спорт   \n",
       "...                                                  ...    ...   \n",
       "53319  https://russian.rt.com/sport/news/445239-pilot...  Спорт   \n",
       "53320  https://russian.rt.com/world/news/445224-terro...    Мир   \n",
       "53321  https://russian.rt.com/world/news/445219-zahar...    Мир   \n",
       "53322  https://russian.rt.com/sport/news/445236-syomi...  Спорт   \n",
       "53323  https://russian.rt.com/world/news/445220-tramp...    Мир   \n",
       "\n",
       "                                                   title  \\\n",
       "0      парламентарий сша фрг россия провести встреча ...   \n",
       "1          мокнуть принять решение лишить признание aiba   \n",
       "2       гинер допустить приглашение иностранный клуб рпл   \n",
       "3                           россия поставить турция июль   \n",
       "4      семак заявить видеть позитив изменение формат ...   \n",
       "...                                                  ...   \n",
       "53319  пилот формула хэмилтон стать самый высокооплач...   \n",
       "53320  губернатор исполнитель теракт нью йорк связать...   \n",
       "53321  захаров считать twitter давление заблокировать...   \n",
       "53322  главный тренер футбольный локомотив отказаться...   \n",
       "53323  трамп раскритиковать лотерея green card теракт...   \n",
       "\n",
       "                                                    text   len  \n",
       "0      информировать риа новость ссылка план зарубежн...  39.0  \n",
       "1      решение сессия мокнуть швейцарский лозанна aib...  37.0  \n",
       "2      субъективный мнение рпл обязательный расширять...  46.0  \n",
       "3      июль осуществлять рамка план поставка приводит...  46.0  \n",
       "4      позиция оставаться неизменный лимит таковой ра...  54.0  \n",
       "...                                                  ...   ...  \n",
       "53319  сообщать nsky sportsn случай успешный завершен...  53.0  \n",
       "53320  связать иго радикализоваться внутри страна рас...  47.0  \n",
       "53321  ход расширить заседание совфедя посвященного в...  65.0  \n",
       "53322  никто сравнивать ничто рекомендовать тренер сб...  42.0  \n",
       "53323  террорист прибыть страна называть диверсификац...  76.0  \n",
       "\n",
       "[53324 rows x 5 columns]"
      ]
     },
     "metadata": {},
     "execution_count": 4
    }
   ],
   "metadata": {}
  },
  {
   "cell_type": "code",
   "execution_count": 5,
   "source": [
    "df.groupby('topics').text.count().plot.bar(ylim=0)\n",
    "plt.show()"
   ],
   "outputs": [
    {
     "output_type": "display_data",
     "data": {
      "image/png": "[encoded data removed]",
      "text/plain": [
       "<Figure size 432x288 with 1 Axes>"
      ]
     },
     "metadata": {
      "needs_background": "light"
     }
    }
   ],
   "metadata": {}
  },
  {
   "cell_type": "code",
   "execution_count": 19,
   "source": [
    "Tfidf_vect = TfidfVectorizer(max_features=500)\n",
    "Tfidf_vect.fit(df['text'])\n",
    "\n",
    "X = Tfidf_vect.transform(df['text'])"
   ],
   "outputs": [],
   "metadata": {}
  },
  {
   "cell_type": "code",
   "execution_count": 20,
   "source": [
    "Encoder = LabelEncoder()\n",
    "Encoder.fit(df['topics'])\n",
    "\n",
    "label_category = dict(zip(Encoder.classes_, Encoder.transform(Encoder.classes_)))\n",
    "print(label_category)\n",
    "\n",
    "y = Encoder.fit_transform(df['topics'])"
   ],
   "outputs": [
    {
     "output_type": "stream",
     "name": "stdout",
     "text": [
      "{'Мир': 0, 'Наука': 1, 'Спорт': 2, 'Экономика': 3}\n"
     ]
    }
   ],
   "metadata": {}
  },
  {
   "cell_type": "code",
   "execution_count": 22,
   "source": [
    "from sklearn.model_selection import cross_validate\n",
    "\n",
    "cv = StratifiedShuffleSplit(n_splits=5, test_size=0.3, random_state=42)\n",
    "clf = svm.SVC(C=1.0, kernel='linear', degree=3, gamma='auto')\n",
    "\n",
    "scores = cross_validate(clf, X, y, cv=cv, scoring='f1_macro')\n",
    "scores.keys()\n",
    "scores "
   ],
   "outputs": [
    {
     "output_type": "execute_result",
     "data": {
      "text/plain": [
       "{'fit_time': array([61.75702119, 60.55858374, 60.5519588 , 61.5968821 , 59.26572919]),\n",
       " 'score_time': array([26.99598694, 26.84275103, 28.53959942, 29.17911816, 27.37465429]),\n",
       " 'test_score': array([0.82960836, 0.82105918, 0.8368702 , 0.8182541 , 0.83601791])}"
      ]
     },
     "metadata": {},
     "execution_count": 22
    }
   ],
   "metadata": {}
  },
  {
   "cell_type": "code",
   "execution_count": 30,
   "source": [
    "target_names = ['Мир', 'Наука', 'Спорт', 'Экономика']\n",
    "print(classification_report(test_Y, y_pred, target_names=target_names))"
   ],
   "outputs": [
    {
     "output_type": "stream",
     "name": "stdout",
     "text": [
      "              precision    recall  f1-score   support\n",
      "\n",
      "         Мир       0.92      0.97      0.94      7164\n",
      "       Наука       0.87      0.49      0.63       403\n",
      "       Спорт       0.99      0.98      0.98      7411\n",
      "   Экономика       0.82      0.71      0.76      1020\n",
      "\n",
      "    accuracy                           0.94     15998\n",
      "   macro avg       0.90      0.79      0.83     15998\n",
      "weighted avg       0.94      0.94      0.94     15998\n",
      "\n"
     ]
    }
   ],
   "metadata": {}
  },
  {
   "cell_type": "code",
   "execution_count": 31,
   "source": [
    "from sklearn import metrics\n",
    "\n",
    "cv = StratifiedShuffleSplit(n_splits=5, test_size=0.3, random_state=42)\n",
    "clf = svm.SVC(C=1.0, kernel='linear', degree=3, gamma='auto')\n",
    "\n",
    "scoring = ['f1_macro']\n",
    "scores = cross_validate(clf, X, y, cv=cv, scoring=scoring)\n",
    "scores"
   ],
   "outputs": [
    {
     "output_type": "execute_result",
     "data": {
      "text/plain": [
       "{'fit_time': array([61.53918242, 60.19138694, 58.24529433, 59.57169557, 59.4478302 ]),\n",
       " 'score_time': array([26.41301656, 26.48131227, 24.81566119, 25.61456013, 26.91833496]),\n",
       " 'test_f1_macro': array([0.82960836, 0.82105918, 0.8368702 , 0.8182541 , 0.83601791])}"
      ]
     },
     "metadata": {},
     "execution_count": 31
    }
   ],
   "metadata": {}
  },
  {
   "cell_type": "code",
   "execution_count": null,
   "source": [],
   "outputs": [],
   "metadata": {}
  }
 ],
 "metadata": {
  "orig_nbformat": 4,
  "language_info": {
   "name": "python",
   "version": "3.9.5",
   "mimetype": "text/x-python",
   "codemirror_mode": {
    "name": "ipython",
    "version": 3
   },
   "pygments_lexer": "ipython3",
   "nbconvert_exporter": "python",
   "file_extension": ".py"
  },
  "kernelspec": {
   "name": "python3",
   "display_name": "Python 3.9.5 64-bit ('.venv': poetry)"
  },
  "interpreter": {
   "hash": "cac51b70533b8d9436b67c51629b6e7c09a6fe88adfb1baaa471b8ae86050a1a"
  }
 },
 "nbformat": 4,
 "nbformat_minor": 2
}